{
 "cells": [
  {
   "cell_type": "markdown",
   "metadata": {},
   "source": [
    "## Start Here"
   ]
  },
  {
   "cell_type": "code",
   "execution_count": 431,
   "metadata": {},
   "outputs": [],
   "source": [
    "\n",
    "\n",
    "import numpy as np\n",
    "import pandas as pd\n",
    "import matplotlib.pyplot as plt\n",
    "from PIL import Image\n",
    "from matplotlib.pyplot import imshow"
   ]
  },
  {
   "cell_type": "code",
   "execution_count": 432,
   "metadata": {},
   "outputs": [],
   "source": [
    "from PIL import Image\n",
    "from matplotlib.pyplot import imshow\n",
    "%matplotlib inline\n",
    "\n",
    "def read_img(path):\n",
    "    \"\"\"\n",
    "    Read image and store it as an array, given the image path. \n",
    "    Returns the 3 dimensional image array.\n",
    "    \"\"\"\n",
    "    img = Image.open(path)\n",
    "    img_arr = np.array(img, dtype='int32')\n",
    "    img.close()\n",
    "    return img_arr\n",
    "\n",
    "def display_image(arr):\n",
    "    \"\"\"\n",
    "    display the image\n",
    "    input : 3 dimensional array\n",
    "    \"\"\"\n",
    "    arr = arr.astype(dtype='uint8')\n",
    "    img = Image.fromarray(arr, 'RGB')\n",
    "    imshow(np.asarray(img))\n",
    "    \n"
   ]
  },
  {
   "cell_type": "markdown",
   "metadata": {},
   "source": [
    "\n",
    "# Insert the image path : "
   ]
  },
  {
   "cell_type": "markdown",
   "metadata": {},
   "source": [
    "The results in the report are not all reflected in the code below. I am on;y displaying the code for the tropical image:"
   ]
  },
  {
   "cell_type": "code",
   "execution_count": 441,
   "metadata": {},
   "outputs": [],
   "source": [
    "img_arr= read_img(\"/Users/sawid/Documents/CDA_Files/tropical.jpeg\")\n",
    "\n",
    "img_arr_football = read_img(\"/Users/sawid/Downloads/homework1/data/football.bmp\")\n",
    "img_arr_beach= read_img(\"/Users/sawid/Downloads/homework1/data/beach.bmp\")\n",
    "\n",
    "# display_image(img_arr)\n",
    "\n",
    "r, c, l = img_arr.shape\n",
    "img_reshaped = np.reshape(img_arr, (r*c, l), order=\"C\")"
   ]
  },
  {
   "cell_type": "markdown",
   "metadata": {},
   "source": [
    "## Run the code below"
   ]
  },
  {
   "cell_type": "markdown",
   "metadata": {},
   "source": [
    "Below are the building blocks for functions that we are going to call later \n"
   ]
  },
  {
   "cell_type": "code",
   "execution_count": 435,
   "metadata": {},
   "outputs": [],
   "source": [
    "# please note that some of the code was retrived from my CSE 6040 assignment in Spring 2020\n",
    "def init_centers(X, k):\n",
    "    from numpy.random import choice\n",
    "    samples = choice(len(X), size=k, replace=False)\n",
    "    return X[samples, :]\n",
    "\n",
    "def compute_d2(X, centers): \n",
    "    m = len(X)\n",
    "    k = len(centers)\n",
    "    \n",
    "    S = np.empty((m, k))\n",
    "    for i in range(m): # 1 by 3 - 3 by 3\n",
    "        d_i = np.linalg.norm(X[i, :] - centers, ord=2, axis=1)\n",
    "#         d_i = np.linalg.norm(X[i, :] - centers, ord=2, axis=0)\n",
    "\n",
    "        S[i, :] = d_i**2\n",
    "    return S\n",
    "def compute_distance_med (X, centers): \n",
    "    m = len(X)\n",
    "    size= centers.shape\n",
    "    k=len(centers)\n",
    "    if len(size) == 1: \n",
    "        centers = centers.reshape((1,len(centers)))\n",
    "    \n",
    "    S = np.empty((m, k))\n",
    "    for i in range(m): # 1 by 3 - 3 by 3\n",
    "#         d_i = np.linalg.norm(X[1, :] - centers, ord=2, axis=1)\n",
    "        d_i = np.linalg.norm(X[i, :] - centers, ord=2, axis=1)\n",
    "\n",
    "        S[i, :] = d_i**2\n",
    "    return S\n",
    "def assign_cluster_labels(S):\n",
    "    return np.argmin(S, axis=1)\n",
    "\n",
    "def update_centers(X, y):\n",
    "    # X[:m, :d] == m points, each of dimension d\n",
    "    # y[:m] == cluster labels\n",
    "    m, d = X.shape\n",
    "    k = max(y) + 1\n",
    "    assert m == len(y)\n",
    "    assert (min(y) >= 0)\n",
    "    \n",
    "    centers = np.empty((k, d))\n",
    "    for j in range(k):\n",
    "        # Compute the new center of cluster j,\n",
    "        # i.e., centers[j, :d].\n",
    "        centers[j, :d] = np.mean(X[y == j, :], axis=0)\n",
    "    return centers\n",
    "\n",
    "\n",
    "    \n",
    "def WCSS(S):\n",
    "    ### BEGIN SOLUTION\n",
    "    return np.sum(np.amin(S, axis=1)) \n",
    "    ### END SOLUTION\n",
    "\n",
    "def has_converged(old_centers, centers):\n",
    "    return set([tuple(x) for x in old_centers]) == set([tuple(x) for x in centers])"
   ]
  },
  {
   "cell_type": "markdown",
   "metadata": {},
   "source": [
    "This is the function that assigns medoids as centers:"
   ]
  },
  {
   "cell_type": "code",
   "execution_count": 436,
   "metadata": {},
   "outputs": [],
   "source": [
    "def swap_centers_all(X,y, old_centers):\n",
    "    k=max(y)+1\n",
    "     \n",
    "    current_centers = old_centers\n",
    "\n",
    "    for j in range(k):\n",
    "        current_cluster=X[y==j,:]\n",
    "        s,d=current_cluster.shape\n",
    "        \n",
    "        sample=random.sample(range(s), int(s*0.002)) # to fix slow performance \n",
    "        old_distance=np.sum(compute_distance_med(current_cluster, current_centers[j]))\n",
    "        for m in current_cluster[sample,]:\n",
    "            new_center=m\n",
    "            new_distance=np.sum(compute_distance_med(current_cluster, new_center))\n",
    "            if old_distance>new_distance:\n",
    "                old_distance=new_distance\n",
    "                current_centers[j]=m\n",
    "        return current_centers"
   ]
  },
  {
   "cell_type": "markdown",
   "metadata": {},
   "source": [
    "Bring it all together for kmeans and kmedoids :"
   ]
  },
  {
   "cell_type": "code",
   "execution_count": 437,
   "metadata": {},
   "outputs": [],
   "source": [
    "import random\n",
    "random.seed(100)\n",
    "def kmeans(X, k, starting_centers=None, max_steps=None):\n",
    "    if starting_centers is None:\n",
    "        centers = init_centers(X, k) #assign random cluster centers\n",
    "    else: \n",
    "        centers=starting_centers\n",
    "    if max_steps is None:\n",
    "        max_steps=10\n",
    "    else:\n",
    "        max_steps\n",
    "    converged = False\n",
    "    labels = np.zeros(len(X))\n",
    "    i = 1\n",
    "    cost=list()\n",
    "    while (not converged) and (i <= max_steps):\n",
    "        old_centers = centers\n",
    "        ### BEGIN SOLUTION\n",
    "        S = compute_d2(X, centers) #compute the distance matrix\n",
    "        labels = assign_cluster_labels(S) # assign cluster center based on S\n",
    "        centers = update_centers(X, labels) # update centers based on mean calculation \n",
    "        #converged = has_converged(old_centers, centers) # converged? yes > stop \n",
    "        ### END SOLUTION\n",
    "        cost.append(WCSS(S))\n",
    "        if  cost[i-1]/cost[i-2] <0.7:\n",
    "              converge=True\n",
    "        print (\"iteration\", i, \"WCSS = \", WCSS (S))\n",
    "        i += 1\n",
    "    return labels, centers\n",
    "\n"
   ]
  },
  {
   "cell_type": "code",
   "execution_count": 444,
   "metadata": {},
   "outputs": [],
   "source": [
    "import random\n",
    "random.seed(100)\n",
    "def Kmed (X, k,  starting_centers=None, max_steps=None):\n",
    "    centers=init_centers(X,k)\n",
    "    print(len(centers))\n",
    "    labels=np.zeros(len(X))\n",
    "    converged=False\n",
    "    if max_steps is None:\n",
    "        max_steps=10\n",
    "    else:\n",
    "        max_steps\n",
    "    i=1\n",
    "    cost=list()\n",
    "\n",
    "# All the program statements\n",
    "    \n",
    "    while (not converged and i<= max_steps) :\n",
    "        \n",
    "        old_centers=centers\n",
    "        S=compute_d2(X,centers) # compute distance matrix\n",
    "        labels=assign_cluster_labels(S) # assign cluster labels based on min d2 in S\n",
    "        centers=swap_centers_all(X, labels,old_centers)\n",
    "#         converged=has_converged(old_centers, centers)\n",
    "\n",
    "#         print(S.shape)\n",
    "        print (\"iteration\", i, \"WCSS = \", WCSS (S))\n",
    "        cost.append(WCSS(S))\n",
    "        if  cost[i-1]/cost[i-2] <0.7: # if the variation within clusters is reduced by 70% then Stop\n",
    "            converged= True\n",
    "#         elif i> max_steps:\n",
    "#         converged=has_converged(old_centers, centers) # if the WCSS variation is not improving then check centers\n",
    "\n",
    "        i+=1\n",
    "#         print(cost)\n",
    "    return labels, centers\n",
    "    "
   ]
  },
  {
   "cell_type": "markdown",
   "metadata": {},
   "source": [
    "## K- medoids Results K=3"
   ]
  },
  {
   "cell_type": "code",
   "execution_count": 445,
   "metadata": {},
   "outputs": [
    {
     "name": "stdout",
     "output_type": "stream",
     "text": [
      "3\n",
      "iteration 1 WCSS =  117773982.0\n",
      "iteration 2 WCSS =  110571059.0\n",
      "iteration 3 WCSS =  109252465.0\n",
      "iteration 4 WCSS =  109252465.0\n",
      "iteration 5 WCSS =  109252465.0\n",
      "iteration 6 WCSS =  109252465.0\n",
      "iteration 7 WCSS =  109252465.0\n",
      "iteration 8 WCSS =  109252465.0\n",
      "iteration 9 WCSS =  109252465.0\n",
      "iteration 10 WCSS =  109252465.0\n",
      "CPU times: user 26.4 s, sys: 482 ms, total: 26.9 s\n",
      "Wall time: 29.7 s\n"
     ]
    }
   ],
   "source": [
    "%%time\n",
    "# labels, centers, S = Kmed(img_reshaped, 3, img_reshaped[0:3,], 10)\n",
    "class_, centroid= Kmed(img_reshaped, 3, None, 10)"
   ]
  },
  {
   "cell_type": "code",
   "execution_count": 446,
   "metadata": {},
   "outputs": [
    {
     "name": "stdout",
     "output_type": "stream",
     "text": [
      "[[ 39  93 181]\n",
      " [ 39  93 181]\n",
      " [ 39  93 181]\n",
      " ...\n",
      " [228 232 235]\n",
      " [228 232 235]\n",
      " [228 232 235]]\n"
     ]
    },
    {
     "data": {
      "image/png": "[encoded data removed]",
      "text/plain": [
       "<Figure size 432x288 with 1 Axes>"
      ]
     },
     "metadata": {
      "needs_background": "light"
     },
     "output_type": "display_data"
    }
   ],
   "source": [
    "\n",
    "img_clustered = np.array([centroid[i] for i in class_])\n",
    "print(img_clustered)\n",
    "r, c, l = img_arr.shape\n",
    "img_disp = np.reshape(img_clustered, (r, c, l), order=\"C\")\n",
    "display_image(img_disp)"
   ]
  },
  {
   "cell_type": "markdown",
   "metadata": {},
   "source": [
    "## K- means Results K=3"
   ]
  },
  {
   "cell_type": "code",
   "execution_count": 447,
   "metadata": {},
   "outputs": [
    {
     "name": "stdout",
     "output_type": "stream",
     "text": [
      "iteration 1 WCSS =  422569518.0\n",
      "iteration 2 WCSS =  96280795.22740209\n",
      "iteration 3 WCSS =  64558796.39374731\n",
      "iteration 4 WCSS =  62282369.71222348\n",
      "iteration 5 WCSS =  61933832.90415873\n",
      "iteration 6 WCSS =  61900318.73622334\n",
      "iteration 7 WCSS =  61897796.02139767\n",
      "iteration 8 WCSS =  61897618.69421489\n",
      "iteration 9 WCSS =  61897581.604298554\n",
      "iteration 10 WCSS =  61897577.50869264\n",
      "CPU times: user 7.73 s, sys: 98.5 ms, total: 7.83 s\n",
      "Wall time: 8.18 s\n"
     ]
    }
   ],
   "source": [
    "%%time\n",
    "\n",
    "# labels_km,centers_km = kmeans(img_reshaped, 3, img_reshaped[0:3,], 10)\n",
    "class_km,centroid_km = kmeans(img_reshaped, 3, None, 10)\n"
   ]
  },
  {
   "cell_type": "code",
   "execution_count": 448,
   "metadata": {},
   "outputs": [
    {
     "name": "stdout",
     "output_type": "stream",
     "text": [
      "[[ 32.06559984  66.72388431 145.01391512]\n",
      " [ 32.06559984  66.72388431 145.01391512]\n",
      " [ 32.06559984  66.72388431 145.01391512]\n",
      " ...\n",
      " [194.08769801 216.40763924 231.7323071 ]\n",
      " [194.08769801 216.40763924 231.7323071 ]\n",
      " [194.08769801 216.40763924 231.7323071 ]]\n"
     ]
    },
    {
     "data": {
      "image/png": "[encoded data removed]",
      "text/plain": [
       "<Figure size 432x288 with 1 Axes>"
      ]
     },
     "metadata": {
      "needs_background": "light"
     },
     "output_type": "display_data"
    }
   ],
   "source": [
    "img_clustered_k = np.array([centroid_km[i] for i in class_km])\n",
    "print(img_clustered_k)\n",
    "r, c, l = img_arr.shape\n",
    "img_disp = np.reshape(img_clustered_k, (r, c, l), order=\"C\")\n",
    "display_image(img_disp)"
   ]
  },
  {
   "cell_type": "markdown",
   "metadata": {},
   "source": [
    "## Kmed K=15\n"
   ]
  },
  {
   "cell_type": "code",
   "execution_count": null,
   "metadata": {},
   "outputs": [],
   "source": [
    "class_, centroid= Kmed(img_reshaped, 15, None, 10)\n",
    "\n",
    "img_clustered = np.array([centroid[i] for i in class_])\n",
    "print(img_clustered)\n",
    "r, c, l = img_arr.shape\n",
    "img_disp = np.reshape(img_clustered, (r, c, l), order=\"C\")\n",
    "display_image(img_disp)"
   ]
  },
  {
   "cell_type": "markdown",
   "metadata": {},
   "source": [
    "## Kmeans K=15\n"
   ]
  },
  {
   "cell_type": "code",
   "execution_count": null,
   "metadata": {},
   "outputs": [],
   "source": [
    "%%time\n",
    "\n",
    "# labels_km,centers_km = kmeans(img_reshaped, 3, img_reshaped[0:3,], 10)\n",
    "class_km,centroid_km = kmeans(img_reshaped, 15, None, 10)\n",
    "\n",
    "img_clustered_k = np.array([centroid_km[i] for i in class_km])\n",
    "print(img_clustered_k)\n",
    "r, c, l = img_arr.shape\n",
    "img_disp = np.reshape(img_clustered_k, (r, c, l), order=\"C\")\n",
    "display_image(img_disp)"
   ]
  },
  {
   "cell_type": "markdown",
   "metadata": {},
   "source": [
    "## Kmed - Poor assignment Initial Centers:"
   ]
  },
  {
   "cell_type": "code",
   "execution_count": 449,
   "metadata": {},
   "outputs": [
    {
     "name": "stdout",
     "output_type": "stream",
     "text": [
      "3\n",
      "iteration 1 WCSS =  462453601.0\n",
      "iteration 2 WCSS =  121794760.0\n",
      "[[ 43  88 181]\n",
      " [ 43  88 181]\n",
      " [ 43  88 181]\n",
      " ...\n",
      " [190 219 237]\n",
      " [190 219 237]\n",
      " [190 219 237]]\n",
      "CPU times: user 20.3 s, sys: 357 ms, total: 20.7 s\n",
      "Wall time: 22.3 s\n"
     ]
    },
    {
     "data": {
      "image/png": "[encoded data removed]",
      "text/plain": [
       "<Figure size 432x288 with 1 Axes>"
      ]
     },
     "metadata": {
      "needs_background": "light"
     },
     "output_type": "display_data"
    }
   ],
   "source": [
    "%%time\n",
    "class_, centroid = Kmed(img_reshaped, 3, img_reshaped[0:3,], 10)\n",
    "\n",
    "img_clustered = np.array([centroid[i] for i in class_])\n",
    "print(img_clustered)\n",
    "r, c, l = img_arr.shape\n",
    "img_disp = np.reshape(img_clustered, (r, c, l), order=\"C\")\n",
    "display_image(img_disp)"
   ]
  },
  {
   "cell_type": "markdown",
   "metadata": {},
   "source": [
    "\n",
    "\n",
    "## Kmeans- Poor assignment Initial Centers:"
   ]
  },
  {
   "cell_type": "code",
   "execution_count": 450,
   "metadata": {},
   "outputs": [
    {
     "name": "stdout",
     "output_type": "stream",
     "text": [
      "iteration 1 WCSS =  1224193268.0\n",
      "iteration 2 WCSS =  578824610.2322971\n",
      "iteration 3 WCSS =  578824610.2322971\n",
      "iteration 4 WCSS =  578824610.2322971\n",
      "iteration 5 WCSS =  578824610.2322971\n",
      "iteration 6 WCSS =  578824610.2322971\n",
      "iteration 7 WCSS =  578824610.2322971\n",
      "iteration 8 WCSS =  578824610.2322971\n",
      "iteration 9 WCSS =  578824610.2322971\n",
      "iteration 10 WCSS =  578824610.2322971\n",
      "iteration 1 WCSS =  182089958.0\n",
      "iteration 2 WCSS =  64122727.72593448\n",
      "iteration 3 WCSS =  62139747.55294011\n",
      "iteration 4 WCSS =  61921195.95721971\n",
      "iteration 5 WCSS =  61898481.730139345\n",
      "iteration 6 WCSS =  61897643.68157032\n",
      "iteration 7 WCSS =  61897583.86127598\n",
      "iteration 8 WCSS =  61897576.11226535\n",
      "iteration 9 WCSS =  61897576.11226535\n",
      "iteration 10 WCSS =  61897576.11226535\n",
      "[[ 32.06559984  66.72388431 145.01391512]\n",
      " [ 32.06559984  66.72388431 145.01391512]\n",
      " [ 32.06559984  66.72388431 145.01391512]\n",
      " ...\n",
      " [194.08769801 216.40763924 231.7323071 ]\n",
      " [194.08769801 216.40763924 231.7323071 ]\n",
      " [194.08769801 216.40763924 231.7323071 ]]\n",
      "CPU times: user 16.3 s, sys: 301 ms, total: 16.6 s\n",
      "Wall time: 17.7 s\n"
     ]
    },
    {
     "data": {
      "image/png": "[encoded data removed]",
      "text/plain": [
       "<Figure size 432x288 with 1 Axes>"
      ]
     },
     "metadata": {
      "needs_background": "light"
     },
     "output_type": "display_data"
    }
   ],
   "source": [
    "%%time\n",
    "\n",
    "labels_km,centers_km = kmeans(img_reshaped, 3, img_reshaped[0:3,], 10)\n",
    "class_km,centroid_km = kmeans(img_reshaped, 3, None, 10)\n",
    "\n",
    "img_clustered_k = np.array([centroid_km[i] for i in class_km])\n",
    "print(img_clustered_k)\n",
    "r, c, l = img_arr.shape\n",
    "img_disp = np.reshape(img_clustered_k, (r, c, l), order=\"C\")\n",
    "display_image(img_disp)"
   ]
  },
  {
   "cell_type": "code",
   "execution_count": null,
   "metadata": {},
   "outputs": [],
   "source": []
  }
 ],
 "metadata": {
  "kernelspec": {
   "display_name": "Python 3",
   "language": "python",
   "name": "python3"
  },
  "language_info": {
   "codemirror_mode": {
    "name": "ipython",
    "version": 3
   },
   "file_extension": ".py",
   "mimetype": "text/x-python",
   "name": "python",
   "nbconvert_exporter": "python",
   "pygments_lexer": "ipython3",
   "version": "3.8.3"
  }
 },
 "nbformat": 4,
 "nbformat_minor": 4
}
